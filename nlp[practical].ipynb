{
 "cells": [
  {
   "cell_type": "code",
   "execution_count": 1,
   "id": "97f280e9-f959-4f07-aafb-27bfbb7aa7f8",
   "metadata": {},
   "outputs": [
    {
     "name": "stdout",
     "output_type": "stream",
     "text": [
      "Requirement already satisfied: nltk in c:\\users\\hp\\anaconda3\\lib\\site-packages (3.9.1)\n",
      "Requirement already satisfied: click in c:\\users\\hp\\anaconda3\\lib\\site-packages (from nltk) (8.1.7)\n",
      "Requirement already satisfied: joblib in c:\\users\\hp\\anaconda3\\lib\\site-packages (from nltk) (1.4.2)\n",
      "Requirement already satisfied: regex>=2021.8.3 in c:\\users\\hp\\anaconda3\\lib\\site-packages (from nltk) (2024.9.11)\n",
      "Requirement already satisfied: tqdm in c:\\users\\hp\\anaconda3\\lib\\site-packages (from nltk) (4.66.5)\n",
      "Requirement already satisfied: colorama in c:\\users\\hp\\anaconda3\\lib\\site-packages (from click->nltk) (0.4.6)\n"
     ]
    }
   ],
   "source": [
    "!pip install nltk"
   ]
  },
  {
   "cell_type": "code",
   "execution_count": 3,
   "id": "de5b5eaa-1418-4518-a975-47f24f509ef1",
   "metadata": {},
   "outputs": [
    {
     "name": "stderr",
     "output_type": "stream",
     "text": [
      "[nltk_data] Downloading package punkt to\n",
      "[nltk_data]     C:\\Users\\hp\\AppData\\Roaming\\nltk_data...\n",
      "[nltk_data]   Unzipping tokenizers\\punkt.zip.\n",
      "[nltk_data] Downloading package stopwords to\n",
      "[nltk_data]     C:\\Users\\hp\\AppData\\Roaming\\nltk_data...\n",
      "[nltk_data]   Unzipping corpora\\stopwords.zip.\n",
      "[nltk_data] Downloading package wordnet to\n",
      "[nltk_data]     C:\\Users\\hp\\AppData\\Roaming\\nltk_data...\n",
      "[nltk_data] Downloading package averaged_perceptron_tagger to\n",
      "[nltk_data]     C:\\Users\\hp\\AppData\\Roaming\\nltk_data...\n",
      "[nltk_data]   Unzipping taggers\\averaged_perceptron_tagger.zip.\n",
      "[nltk_data] Downloading package punkt_tab to\n",
      "[nltk_data]     C:\\Users\\hp\\AppData\\Roaming\\nltk_data...\n",
      "[nltk_data]   Unzipping tokenizers\\punkt_tab.zip.\n",
      "[nltk_data] Downloading package averaged_perceptron_tagger_eng to\n",
      "[nltk_data]     C:\\Users\\hp\\AppData\\Roaming\\nltk_data...\n",
      "[nltk_data]   Unzipping taggers\\averaged_perceptron_tagger_eng.zip.\n"
     ]
    },
    {
     "data": {
      "text/plain": [
       "True"
      ]
     },
     "execution_count": 3,
     "metadata": {},
     "output_type": "execute_result"
    }
   ],
   "source": [
    "\n",
    "import nltk\n",
    "from nltk.tokenize import sent_tokenize, word_tokenize\n",
    "from nltk.corpus import stopwords\n",
    "from nltk.stem import PorterStemmer\n",
    "from nltk.stem import WordNetLemmatizer\n",
    "from nltk import pos_tag\n",
    "# Ensure you have the required NLTK data packages\n",
    "nltk.download('punkt')\n",
    "nltk.download('stopwords')\n",
    "nltk.download('wordnet')\n",
    "nltk.download('averaged_perceptron_tagger')\n",
    "nltk.download('punkt_tab')\n",
    "nltk.download('averaged_perceptron_tagger_eng')"
   ]
  },
  {
   "cell_type": "code",
   "execution_count": 4,
   "id": "6b31ea09-877b-457c-ac6f-514c7a8b850d",
   "metadata": {},
   "outputs": [
    {
     "name": "stdout",
     "output_type": "stream",
     "text": [
      "Photography is an art that captures the beauty of moments in time.', Whether it's a landscape, portrait, or an event, a photograph can tell a powerful story., 'Great photographers use their cameras as tools to convey emotions, memories, and scenes from everyday life.', 'The composition, lighting, and timing of a shot are key elements in creating stunning photos.', 'Photography also plays a significant role in digital media, social media, and marketing.', 'The evolution of camera technology, from film cameras to digital cameras, has revolutionized how we capture images.', 'Every photograph is a unique creation, reflecting the photographer's perspective and artistic style.\n"
     ]
    }
   ],
   "source": [
    "text=\"Photography is an art that captures the beauty of moments in time.', Whether it's a landscape, portrait, or an event, a photograph can tell a powerful story., 'Great photographers use their cameras as tools to convey emotions, memories, and scenes from everyday life.', 'The composition, lighting, and timing of a shot are key elements in creating stunning photos.', 'Photography also plays a significant role in digital media, social media, and marketing.', 'The evolution of camera technology, from film cameras to digital cameras, has revolutionized how we capture images.', 'Every photograph is a unique creation, reflecting the photographer's perspective and artistic style.\"\n",
    "print(text)\n",
    "     "
   ]
  },
  {
   "cell_type": "code",
   "execution_count": 7,
   "id": "96cdbb5b-4c3d-4cc5-961d-91063e1a9dc0",
   "metadata": {},
   "outputs": [
    {
     "name": "stdout",
     "output_type": "stream",
     "text": [
      "Sentences: ['Photography is an art that captures the beauty of moments in time.', \"', Whether it's a landscape, portrait, or an event, a photograph can tell a powerful story., 'Great photographers use their cameras as tools to convey emotions, memories, and scenes from everyday life.\", \"', 'The composition, lighting, and timing of a shot are key elements in creating stunning photos.\", \"', 'Photography also plays a significant role in digital media, social media, and marketing.\", \"', 'The evolution of camera technology, from film cameras to digital cameras, has revolutionized how we capture images.\", \"', 'Every photograph is a unique creation, reflecting the photographer's perspective and artistic style.\"]\n",
      "Words: ['Photography', 'is', 'an', 'art', 'that', 'captures', 'the', 'beauty', 'of', 'moments', 'in', 'time', '.', \"'\", ',', 'Whether', 'it', \"'s\", 'a', 'landscape', ',', 'portrait', ',', 'or', 'an', 'event', ',', 'a', 'photograph', 'can', 'tell', 'a', 'powerful', 'story.', ',', \"'Great\", 'photographers', 'use', 'their', 'cameras', 'as', 'tools', 'to', 'convey', 'emotions', ',', 'memories', ',', 'and', 'scenes', 'from', 'everyday', 'life', '.', \"'\", ',', \"'The\", 'composition', ',', 'lighting', ',', 'and', 'timing', 'of', 'a', 'shot', 'are', 'key', 'elements', 'in', 'creating', 'stunning', 'photos', '.', \"'\", ',', \"'Photography\", 'also', 'plays', 'a', 'significant', 'role', 'in', 'digital', 'media', ',', 'social', 'media', ',', 'and', 'marketing', '.', \"'\", ',', \"'The\", 'evolution', 'of', 'camera', 'technology', ',', 'from', 'film', 'cameras', 'to', 'digital', 'cameras', ',', 'has', 'revolutionized', 'how', 'we', 'capture', 'images', '.', \"'\", ',', \"'Every\", 'photograph', 'is', 'a', 'unique', 'creation', ',', 'reflecting', 'the', 'photographer', \"'s\", 'perspective', 'and', 'artistic', 'style', '.']\n"
     ]
    }
   ],
   "source": [
    "sentences = sent_tokenize(text)\n",
    "words = word_tokenize(text)\n",
    "\n",
    "print(\"Sentences:\", sentences)\n",
    "print(\"Words:\", words)\n",
    "     "
   ]
  },
  {
   "cell_type": "code",
   "execution_count": 9,
   "id": "056c64a6-6b85-499e-ba44-c9a0996dc606",
   "metadata": {},
   "outputs": [
    {
     "name": "stdout",
     "output_type": "stream",
     "text": [
      "Filtered Words: ['Photography', 'art', 'captures', 'beauty', 'moments', 'time', 'Whether', 'landscape', 'portrait', 'event', 'photograph', 'tell', 'powerful', 'photographers', 'use', 'cameras', 'tools', 'convey', 'emotions', 'memories', 'scenes', 'everyday', 'life', 'composition', 'lighting', 'timing', 'shot', 'key', 'elements', 'creating', 'stunning', 'photos', 'also', 'plays', 'significant', 'role', 'digital', 'media', 'social', 'media', 'marketing', 'evolution', 'camera', 'technology', 'film', 'cameras', 'digital', 'cameras', 'revolutionized', 'capture', 'images', 'photograph', 'unique', 'creation', 'reflecting', 'photographer', 'perspective', 'artistic', 'style']\n"
     ]
    }
   ],
   "source": [
    "stop_words = set(stopwords.words('english'))\n",
    "filtered_words = [word for word in words if word.isalpha() and word not in stop_words]\n",
    "print(\"Filtered Words:\", filtered_words)"
   ]
  },
  {
   "cell_type": "code",
   "execution_count": 11,
   "id": "c2cefec2-a1b8-4f82-9a52-ef7482ff07d2",
   "metadata": {},
   "outputs": [
    {
     "name": "stdout",
     "output_type": "stream",
     "text": [
      "Stemmed Words: ['photographi', 'art', 'captur', 'beauti', 'moment', 'time', 'whether', 'landscap', 'portrait', 'event', 'photograph', 'tell', 'power', 'photograph', 'use', 'camera', 'tool', 'convey', 'emot', 'memori', 'scene', 'everyday', 'life', 'composit', 'light', 'time', 'shot', 'key', 'element', 'creat', 'stun', 'photo', 'also', 'play', 'signific', 'role', 'digit', 'media', 'social', 'media', 'market', 'evolut', 'camera', 'technolog', 'film', 'camera', 'digit', 'camera', 'revolution', 'captur', 'imag', 'photograph', 'uniqu', 'creation', 'reflect', 'photograph', 'perspect', 'artist', 'style']\n"
     ]
    }
   ],
   "source": [
    "stemmer = PorterStemmer()\n",
    "stemmed_words = [stemmer.stem(word) for word in filtered_words]\n",
    "\n",
    "print(\"Stemmed Words:\", stemmed_words)"
   ]
  },
  {
   "cell_type": "code",
   "execution_count": 13,
   "id": "397d0b05-8d97-4f80-834f-faeae098914a",
   "metadata": {},
   "outputs": [
    {
     "name": "stdout",
     "output_type": "stream",
     "text": [
      "Lemmatized Words: ['Photography', 'art', 'capture', 'beauty', 'moment', 'time', 'Whether', 'landscape', 'portrait', 'event', 'photograph', 'tell', 'powerful', 'photographer', 'use', 'camera', 'tool', 'convey', 'emotion', 'memory', 'scene', 'everyday', 'life', 'composition', 'lighting', 'timing', 'shot', 'key', 'element', 'creating', 'stunning', 'photo', 'also', 'play', 'significant', 'role', 'digital', 'medium', 'social', 'medium', 'marketing', 'evolution', 'camera', 'technology', 'film', 'camera', 'digital', 'camera', 'revolutionized', 'capture', 'image', 'photograph', 'unique', 'creation', 'reflecting', 'photographer', 'perspective', 'artistic', 'style']\n"
     ]
    }
   ],
   "source": [
    "lemmatizer = WordNetLemmatizer()\n",
    "lemmatized_words = [lemmatizer.lemmatize(word) for word in filtered_words]\n",
    "\n",
    "print(\"Lemmatized Words:\", lemmatized_words)"
   ]
  },
  {
   "cell_type": "code",
   "execution_count": null,
   "id": "8c083d92-25ff-4e51-900f-6182e399848f",
   "metadata": {},
   "outputs": [],
   "source": []
  }
 ],
 "metadata": {
  "kernelspec": {
   "display_name": "Python [conda env:base] *",
   "language": "python",
   "name": "conda-base-py"
  },
  "language_info": {
   "codemirror_mode": {
    "name": "ipython",
    "version": 3
   },
   "file_extension": ".py",
   "mimetype": "text/x-python",
   "name": "python",
   "nbconvert_exporter": "python",
   "pygments_lexer": "ipython3",
   "version": "3.12.7"
  }
 },
 "nbformat": 4,
 "nbformat_minor": 5
}
