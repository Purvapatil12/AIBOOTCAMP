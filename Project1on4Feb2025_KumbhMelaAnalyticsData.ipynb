{
 "cells": [
  {
   "cell_type": "code",
   "execution_count": null,
   "id": "8067bad2-8641-4082-83c3-e17d6be76db0",
   "metadata": {},
   "outputs": [],
   "source": [
    "# Step 2: Generate Random Dataset\n",
    "data = {\n",
    "    'Visitor_ID': [f'V{1000 + i}' for i in range(20)],\n",
    "    'Name': ['ABHISHEK SANDEEP      ZADE     ', 'ARNAV AJAY DESHPANDE.. ', '.. .. ASHWINI LALCHAND MUNDAWARE/ ', 'GAYATRI SURESH GAIKWAD', 'HARSHADA GANESH CHAUDHARI',\n",
    "             'VAIBHAVI HARISHWAR PATIL', np.nan, 'VISHAKHA PUNDLIK JADHAV', 'YASH BHARAT SOLUNKE/', 'VIVEK SANTOSH KHANDWE',\n",
    "             'VISHAKHA PUNDLIK JADHAV', 'Tanushree chhanwal', 'Shruti jaiswal', 'Shriyash Sulakhe', 'YASH BHARAT SOLUNKE',\n",
    "             np.nan, 'ARNAV AJAY DESHPANDE', 'RUTUJA SANTOSH THOTE', 'ROHIT DILIP BILWAL', 'RITESH SHIVAJI BAIRAGI'],\n",
    "    'Age': [25, 23, 22, np.nan, 21, 25, 24, 24, 28, np.nan,\n",
    "            22, 23, 25, 27, 25, 30, 31, 26, 19, 19],\n",
    "    'Ticket_Price': [500, 750, 500, 1000, np.nan, 500, 700, 650, 750, 1000,\n",
    "                      500, 800, np.nan, 750, 500, 700, 900, 850, 750, np.nan],\n",
    "    'Check_In_Time': ['10:00 AM', '10:30 AM', '11:00 AM', '11:30 AM', np.nan,\n",
    "                       '10:00 AM', '12:00 PM', '12:30 PM', '01:00 PM', '01:30 PM',\n",
    "                       '11:00 AM', '02:00 PM', np.nan, '02:30 PM', '10:00 AM',\n",
    "                       '12:00 PM', '03:00 PM', '03:30 PM', '04:00 PM', np.nan],\n",
    "    'City':['Delhi','Aurangabad', 'Mumbai','Bombay','New Delhi','NDL','Chennai','Chenai','Chennaai','Bangalore',\n",
    "            'Delhi','Pune', 'New Delhi','Bombay','New Delhi','NDL','Indore','Bangalore','Ujjain','Bangalore'],\n",
    "    'State': ['Delhi','Maharastra', 'Maharastra','Maharastra','Delhi','Delhi','Tamilnadu','Tamilnadu','Tamilnadu','Karnataka',\n",
    "            'Delhi','Maharastra', 'Delhi','Maharastra','Delhi','Delhi','Madhya Pradesh','Karnataka','Madhya Pradesh','Karnataka']\n",
    "}"
   ]
  },
  {
   "cell_type": "code",
   "execution_count": null,
   "id": "bbc030cb-d69f-45c6-85c2-92a80795ae4b",
   "metadata": {},
   "outputs": [],
   "source": [
    "#Complete all the steps for data cleansing and data preprocessing as demonstrated in class"
   ]
  },
  {
   "cell_type": "code",
   "execution_count": null,
   "id": "988b0fc8-8d06-483a-aeca-5f06077d0f5b",
   "metadata": {},
   "outputs": [],
   "source": [
    "# Step 10: Save the Cleaned Dataset\n",
    "df.to_csv('cleaned_khubh_mela_data.csv', index=False)\n",
    "\n",
    "# Step 12: GitHub Submission Instructions\n",
    "# 1. Create a GitHub repository.\n",
    "# 2. Upload this Jupyter Notebook.\n",
    "# 3. Share the repository link.\n",
    "\n",
    "# End of Project"
   ]
  }
 ],
 "metadata": {
  "kernelspec": {
   "display_name": "Python [conda env:base] *",
   "language": "python",
   "name": "conda-base-py"
  },
  "language_info": {
   "codemirror_mode": {
    "name": "ipython",
    "version": 3
   },
   "file_extension": ".py",
   "mimetype": "text/x-python",
   "name": "python",
   "nbconvert_exporter": "python",
   "pygments_lexer": "ipython3",
   "version": "3.12.7"
  }
 },
 "nbformat": 4,
 "nbformat_minor": 5
}
