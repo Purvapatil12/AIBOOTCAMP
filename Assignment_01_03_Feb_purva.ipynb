{
 "cells": [
  {
   "cell_type": "code",
   "execution_count": 1,
   "id": "ca40ca99-1c67-4ada-af56-cae3ce82f936",
   "metadata": {},
   "outputs": [
    {
     "name": "stdout",
     "output_type": "stream",
     "text": [
      "Hello, World!\n",
      "!dlroW ,olleH\n"
     ]
    }
   ],
   "source": [
    "# This Is programmFor to Print String In Reverse Order \n",
    "\n",
    "input_string = \"Hello, World!\"\n",
    "print( input_string)\n",
    "reversed_string = input_string[::-1]\n",
    "print( reversed_string)"
   ]
  },
  {
   "cell_type": "code",
   "execution_count": 3,
   "id": "cc75b594-3a13-4132-9dd2-e582ccae014d",
   "metadata": {},
   "outputs": [
    {
     "name": "stdout",
     "output_type": "stream",
     "text": [
      "Random Numbers: [79, 72, 90, 45, 4, 4, 48, 3, 51, 73]\n",
      "Even Numbers: [72, 90, 4, 4, 48]\n"
     ]
    }
   ],
   "source": [
    "# This Is Programmefor To Pic Randaom Numners and even Numbers\n",
    "import random\n",
    "random_numbers = [random.randint(1, 100) for _ in range(10)]\n",
    "print(\"Random Numbers:\", random_numbers)\n",
    "even_numbers = [num for num in random_numbers if num % 2 == 0]\n",
    "print(\"Even Numbers:\", even_numbers)"
   ]
  },
  {
   "cell_type": "code",
   "execution_count": null,
   "id": "aecf38ae-61e7-443d-939a-285a02dc0506",
   "metadata": {},
   "outputs": [],
   "source": []
  }
 ],
 "metadata": {
  "kernelspec": {
   "display_name": "Python [conda env:base] *",
   "language": "python",
   "name": "conda-base-py"
  },
  "language_info": {
   "codemirror_mode": {
    "name": "ipython",
    "version": 3
   },
   "file_extension": ".py",
   "mimetype": "text/x-python",
   "name": "python",
   "nbconvert_exporter": "python",
   "pygments_lexer": "ipython3",
   "version": "3.12.7"
  }
 },
 "nbformat": 4,
 "nbformat_minor": 5
}
